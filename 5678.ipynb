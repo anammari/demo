{
 "cells": [
  {
   "cell_type": "code",
   "execution_count": 3,
   "id": "39ba21bc",
   "metadata": {},
   "outputs": [
    {
     "name": "stdout",
     "output_type": "stream",
     "text": [
      "hello woorld\n"
     ]
    }
   ],
   "source": [
    "print(\"hello woorld\")"
   ]
  },
  {
   "cell_type": "code",
   "execution_count": 4,
   "id": "54198284",
   "metadata": {},
   "outputs": [
    {
     "name": "stdout",
     "output_type": "stream",
     "text": [
      "/Users/xiaojidunmogu\r\n"
     ]
    }
   ],
   "source": [
    "!pwd"
   ]
  },
  {
   "cell_type": "code",
   "execution_count": null,
   "id": "a2ab01a3",
   "metadata": {},
   "outputs": [],
   "source": [
    "/Users/xiaojidunmogu/demo"
   ]
  }
 ],
 "metadata": {
  "kernelspec": {
   "display_name": "Python 3 (ipykernel)",
   "language": "python",
   "name": "python3"
  },
  "language_info": {
   "codemirror_mode": {
    "name": "ipython",
    "version": 3
   },
   "file_extension": ".py",
   "mimetype": "text/x-python",
   "name": "python",
   "nbconvert_exporter": "python",
   "pygments_lexer": "ipython3",
   "version": "3.11.5"
  }
 },
 "nbformat": 4,
 "nbformat_minor": 5
}
