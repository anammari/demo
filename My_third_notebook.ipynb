{
 "cells": [
  {
   "cell_type": "code",
   "execution_count": 1,
   "id": "838b7108-b72f-4b87-b774-446902b17734",
   "metadata": {},
   "outputs": [],
   "source": [
    "first_name = \"Ahmad\""
   ]
  },
  {
   "cell_type": "code",
   "execution_count": 2,
   "id": "4606c734-af9e-4f3c-b25b-780c93aef137",
   "metadata": {},
   "outputs": [
    {
     "name": "stdout",
     "output_type": "stream",
     "text": [
      "Ahmad\n"
     ]
    }
   ],
   "source": [
    "print(first_name)"
   ]
  },
  {
   "cell_type": "code",
   "execution_count": 5,
   "id": "39509f4d-841d-4a5d-bd8b-80f39f9c6f50",
   "metadata": {},
   "outputs": [
    {
     "name": "stdout",
     "output_type": "stream",
     "text": [
      "Ammari\n"
     ]
    }
   ],
   "source": [
    "print(second_name)"
   ]
  },
  {
   "cell_type": "code",
   "execution_count": 4,
   "id": "b3acbf22-5f10-4a18-99ba-d685c8b08766",
   "metadata": {},
   "outputs": [],
   "source": [
    "second_name = \"Ammari\""
   ]
  },
  {
   "cell_type": "code",
   "execution_count": 12,
   "id": "8d30739b-e429-4761-aeb5-9a4882b6b8a7",
   "metadata": {},
   "outputs": [],
   "source": [
    "third_name = \" \""
   ]
  },
  {
   "cell_type": "code",
   "execution_count": 8,
   "id": "2c769999-6411-475b-8b55-9b091e617cbc",
   "metadata": {},
   "outputs": [
    {
     "name": "stdout",
     "output_type": "stream",
     "text": [
      "None\n"
     ]
    }
   ],
   "source": [
    "print(third_name)"
   ]
  },
  {
   "cell_type": "code",
   "execution_count": 13,
   "id": "bbf8c6cc-0e05-4876-a0bb-3cdad300d4be",
   "metadata": {},
   "outputs": [
    {
     "name": "stdout",
     "output_type": "stream",
     "text": [
      "Ahmad Ammari\n"
     ]
    }
   ],
   "source": [
    "print(first_name+third_name+second_name)"
   ]
  },
  {
   "cell_type": "code",
   "execution_count": 24,
   "id": "40b16251-1734-4a46-9e6d-7e61fad53c76",
   "metadata": {},
   "outputs": [
    {
     "ename": "SyntaxError",
     "evalue": "invalid decimal literal (886971014.py, line 1)",
     "output_type": "error",
     "traceback": [
      "\u001b[1;36m  Cell \u001b[1;32mIn[24], line 1\u001b[1;36m\u001b[0m\n\u001b[1;33m    1st_user = \"Ahmad\"\u001b[0m\n\u001b[1;37m    ^\u001b[0m\n\u001b[1;31mSyntaxError\u001b[0m\u001b[1;31m:\u001b[0m invalid decimal literal\n"
     ]
    }
   ],
   "source": [
    "1st_user = \"Ahmad\""
   ]
  },
  {
   "cell_type": "code",
   "execution_count": 16,
   "id": "ce6ad9e2-ab50-4174-96eb-2a9ed81523ce",
   "metadata": {},
   "outputs": [],
   "source": [
    "username = \"Ahmad\""
   ]
  },
  {
   "cell_type": "code",
   "execution_count": 18,
   "id": "9e77b6ee-edc1-4cf2-a308-7a11fc1bb82d",
   "metadata": {},
   "outputs": [
    {
     "name": "stdout",
     "output_type": "stream",
     "text": [
      "Ahmad\n"
     ]
    }
   ],
   "source": [
    "print(username)"
   ]
  },
  {
   "cell_type": "code",
   "execution_count": 23,
   "id": "c5432fa5-aede-408e-918d-fa164adb5dad",
   "metadata": {},
   "outputs": [],
   "source": [
    "firstName = \"Ahmad\"\n",
    "first_name = \"Ahmad\""
   ]
  },
  {
   "cell_type": "code",
   "execution_count": 25,
   "id": "6d457197-01fe-40ff-b0ae-22b761102da6",
   "metadata": {},
   "outputs": [
    {
     "data": {
      "text/plain": [
       "str"
      ]
     },
     "execution_count": 25,
     "metadata": {},
     "output_type": "execute_result"
    }
   ],
   "source": [
    "type(firstName)"
   ]
  },
  {
   "cell_type": "code",
   "execution_count": 32,
   "id": "86460e02-c232-4ef9-8b7c-ecd755e3df4d",
   "metadata": {},
   "outputs": [],
   "source": [
    "my_number = True"
   ]
  },
  {
   "cell_type": "code",
   "execution_count": 33,
   "id": "421d6745-0710-4ead-8ec8-ca6a055c50b2",
   "metadata": {},
   "outputs": [
    {
     "data": {
      "text/plain": [
       "bool"
      ]
     },
     "execution_count": 33,
     "metadata": {},
     "output_type": "execute_result"
    }
   ],
   "source": [
    "type(my_number)"
   ]
  },
  {
   "cell_type": "code",
   "execution_count": 34,
   "id": "e4d6adf6-27c7-4680-9edd-e22b2bfab7e0",
   "metadata": {},
   "outputs": [],
   "source": [
    "x = 5"
   ]
  },
  {
   "cell_type": "code",
   "execution_count": 38,
   "id": "315356e9-b23a-44a9-a8bd-03ba9e4cee6a",
   "metadata": {},
   "outputs": [
    {
     "name": "stdout",
     "output_type": "stream",
     "text": [
      "The value of x is 5\n"
     ]
    }
   ],
   "source": [
    "print(f\"The value of x is {x}\")"
   ]
  },
  {
   "cell_type": "code",
   "execution_count": 39,
   "id": "64837421-dd1b-4f80-9d15-b3ed1b43a784",
   "metadata": {},
   "outputs": [],
   "source": [
    "Name = \"Ahmad\"\n",
    "Age = 30"
   ]
  },
  {
   "cell_type": "code",
   "execution_count": 41,
   "id": "5ac1bbe5-a5d9-45fd-a5cc-b766c581d922",
   "metadata": {},
   "outputs": [
    {
     "name": "stdout",
     "output_type": "stream",
     "text": [
      "My name is Ahmad and I am 30 years old\n"
     ]
    }
   ],
   "source": [
    "print(f\"My name is {Name} and I am {Age} years old\")"
   ]
  },
  {
   "cell_type": "code",
   "execution_count": 45,
   "id": "19d83cb8-1088-4a4b-8452-96a040af16eb",
   "metadata": {},
   "outputs": [
    {
     "data": {
      "text/plain": [
       "3.33333"
      ]
     },
     "execution_count": 45,
     "metadata": {},
     "output_type": "execute_result"
    }
   ],
   "source": [
    "round(10 / 3, 5)"
   ]
  },
  {
   "cell_type": "code",
   "execution_count": 46,
   "id": "1aa8171a-e52c-4325-94f8-b62f22cb8a57",
   "metadata": {},
   "outputs": [
    {
     "data": {
      "text/plain": [
       "200000.0"
      ]
     },
     "execution_count": 46,
     "metadata": {},
     "output_type": "execute_result"
    }
   ],
   "source": [
    "2e5"
   ]
  },
  {
   "cell_type": "code",
   "execution_count": 47,
   "id": "afe61918-8102-490f-ac43-4774907c4cf2",
   "metadata": {},
   "outputs": [
    {
     "data": {
      "text/plain": [
       "200000"
      ]
     },
     "execution_count": 47,
     "metadata": {},
     "output_type": "execute_result"
    }
   ],
   "source": [
    "2 * 10**5"
   ]
  },
  {
   "cell_type": "code",
   "execution_count": 48,
   "id": "1a69e23d-1dea-4ea8-abd3-61029392d0f8",
   "metadata": {},
   "outputs": [
    {
     "data": {
      "text/plain": [
       "0.00044"
      ]
     },
     "execution_count": 48,
     "metadata": {},
     "output_type": "execute_result"
    }
   ],
   "source": [
    "4.4e-4"
   ]
  },
  {
   "cell_type": "code",
   "execution_count": 50,
   "id": "0e775ebb-baf4-4b0b-a5a7-49fec69c5dda",
   "metadata": {},
   "outputs": [
    {
     "data": {
      "text/plain": [
       "0.00044"
      ]
     },
     "execution_count": 50,
     "metadata": {},
     "output_type": "execute_result"
    }
   ],
   "source": [
    "4.4 / 10**4"
   ]
  },
  {
   "cell_type": "code",
   "execution_count": 52,
   "id": "61ac13fa-a250-4347-9bb1-cc3554761bf1",
   "metadata": {},
   "outputs": [
    {
     "data": {
      "text/plain": [
       "18"
      ]
     },
     "execution_count": 52,
     "metadata": {},
     "output_type": "execute_result"
    }
   ],
   "source": [
    "3 * 6"
   ]
  },
  {
   "cell_type": "code",
   "execution_count": 55,
   "id": "7b50e7b8-27d2-4c8a-b62a-fbe8275867ed",
   "metadata": {},
   "outputs": [
    {
     "data": {
      "text/plain": [
       "3.0"
      ]
     },
     "execution_count": 55,
     "metadata": {},
     "output_type": "execute_result"
    }
   ],
   "source": [
    "6 / 2"
   ]
  },
  {
   "cell_type": "code",
   "execution_count": 56,
   "id": "c34614bf-ad03-4cb1-9a3c-e623a735d991",
   "metadata": {},
   "outputs": [
    {
     "data": {
      "text/plain": [
       "9"
      ]
     },
     "execution_count": 56,
     "metadata": {},
     "output_type": "execute_result"
    }
   ],
   "source": [
    "3 ** 2"
   ]
  },
  {
   "cell_type": "code",
   "execution_count": 61,
   "id": "b5a4cef7-f36d-4eb4-9da5-76c64e7e2e15",
   "metadata": {},
   "outputs": [
    {
     "data": {
      "text/plain": [
       "1.5"
      ]
     },
     "execution_count": 61,
     "metadata": {},
     "output_type": "execute_result"
    }
   ],
   "source": [
    "6 / 4"
   ]
  },
  {
   "cell_type": "code",
   "execution_count": 66,
   "id": "03be22b0-7dd1-4f89-84c1-116fa0664080",
   "metadata": {},
   "outputs": [
    {
     "data": {
      "text/plain": [
       "0"
      ]
     },
     "execution_count": 66,
     "metadata": {},
     "output_type": "execute_result"
    }
   ],
   "source": [
    "10 % 5"
   ]
  },
  {
   "cell_type": "code",
   "execution_count": 68,
   "id": "0de03d08-5dc9-4f90-857f-a6d9aaa960a2",
   "metadata": {},
   "outputs": [
    {
     "ename": "ZeroDivisionError",
     "evalue": "division by zero",
     "output_type": "error",
     "traceback": [
      "\u001b[1;31m---------------------------------------------------------------------------\u001b[0m",
      "\u001b[1;31mZeroDivisionError\u001b[0m                         Traceback (most recent call last)",
      "Cell \u001b[1;32mIn[68], line 1\u001b[0m\n\u001b[1;32m----> 1\u001b[0m \u001b[38;5;241m10\u001b[39m \u001b[38;5;241m/\u001b[39m \u001b[38;5;241m0\u001b[39m\n",
      "\u001b[1;31mZeroDivisionError\u001b[0m: division by zero"
     ]
    }
   ],
   "source": [
    "10 / 0"
   ]
  },
  {
   "cell_type": "code",
   "execution_count": 69,
   "id": "bf8cc9cb-5265-4757-ba51-6a0b99aaf96c",
   "metadata": {},
   "outputs": [
    {
     "data": {
      "text/plain": [
       "1"
      ]
     },
     "execution_count": 69,
     "metadata": {},
     "output_type": "execute_result"
    }
   ],
   "source": [
    "10 % 3"
   ]
  },
  {
   "cell_type": "code",
   "execution_count": 70,
   "id": "aa8b340c-1814-4399-82fa-958baf7dd2b2",
   "metadata": {},
   "outputs": [
    {
     "data": {
      "text/plain": [
       "3.3333333333333335"
      ]
     },
     "execution_count": 70,
     "metadata": {},
     "output_type": "execute_result"
    }
   ],
   "source": [
    "10 / 3"
   ]
  },
  {
   "cell_type": "code",
   "execution_count": 71,
   "id": "bc5d62e3-0ff9-48a5-a5c6-10e561564c0e",
   "metadata": {},
   "outputs": [
    {
     "data": {
      "text/plain": [
       "-10"
      ]
     },
     "execution_count": 71,
     "metadata": {},
     "output_type": "execute_result"
    }
   ],
   "source": [
    "-10"
   ]
  },
  {
   "cell_type": "code",
   "execution_count": 72,
   "id": "8f239c40-5711-418d-a0db-3aadf9bbd905",
   "metadata": {},
   "outputs": [
    {
     "data": {
      "text/plain": [
       "-10"
      ]
     },
     "execution_count": 72,
     "metadata": {},
     "output_type": "execute_result"
    }
   ],
   "source": [
    "-1 * 10"
   ]
  },
  {
   "cell_type": "code",
   "execution_count": 73,
   "id": "989a9bd4-33f8-4625-93ee-c84045b7c4a4",
   "metadata": {},
   "outputs": [
    {
     "data": {
      "text/plain": [
       "0"
      ]
     },
     "execution_count": 73,
     "metadata": {},
     "output_type": "execute_result"
    }
   ],
   "source": [
    "-0"
   ]
  },
  {
   "cell_type": "code",
   "execution_count": 74,
   "id": "6e543c91-c508-4896-9435-41feefd1ccfe",
   "metadata": {},
   "outputs": [
    {
     "data": {
      "text/plain": [
       "0"
      ]
     },
     "execution_count": 74,
     "metadata": {},
     "output_type": "execute_result"
    }
   ],
   "source": [
    "-1 * 0"
   ]
  },
  {
   "cell_type": "code",
   "execution_count": 76,
   "id": "dda9cc50-fda6-41d4-9e63-7e03985bf81a",
   "metadata": {},
   "outputs": [
    {
     "data": {
      "text/plain": [
       "14"
      ]
     },
     "execution_count": 76,
     "metadata": {},
     "output_type": "execute_result"
    }
   ],
   "source": [
    "(3 + 4) * 2"
   ]
  },
  {
   "cell_type": "code",
   "execution_count": 95,
   "id": "74a39097-3eb5-4b30-8002-d025539abc00",
   "metadata": {},
   "outputs": [],
   "source": [
    "x, y = 10, 20.5"
   ]
  },
  {
   "cell_type": "code",
   "execution_count": 96,
   "id": "102809d0-74ef-426f-8fad-019208b036ef",
   "metadata": {},
   "outputs": [],
   "source": [
    "x += 5"
   ]
  },
  {
   "cell_type": "code",
   "execution_count": 84,
   "id": "0f6b4914-1cc0-4cde-ad01-8ead1cedd5d7",
   "metadata": {},
   "outputs": [
    {
     "data": {
      "text/plain": [
       "15"
      ]
     },
     "execution_count": 84,
     "metadata": {},
     "output_type": "execute_result"
    }
   ],
   "source": [
    "x"
   ]
  },
  {
   "cell_type": "code",
   "execution_count": 80,
   "id": "7a9cac28-4178-424f-9222-b702757e9770",
   "metadata": {},
   "outputs": [],
   "source": [
    "x = x + 5"
   ]
  },
  {
   "cell_type": "code",
   "execution_count": 81,
   "id": "0418daa7-af60-48c2-bab1-fae49a64921f",
   "metadata": {},
   "outputs": [
    {
     "data": {
      "text/plain": [
       "15"
      ]
     },
     "execution_count": 81,
     "metadata": {},
     "output_type": "execute_result"
    }
   ],
   "source": [
    "x"
   ]
  },
  {
   "cell_type": "code",
   "execution_count": 85,
   "id": "cb9a8c9a-571a-4f9f-ac75-d5f8cf8d375b",
   "metadata": {},
   "outputs": [
    {
     "data": {
      "text/plain": [
       "15.5"
      ]
     },
     "execution_count": 85,
     "metadata": {},
     "output_type": "execute_result"
    }
   ],
   "source": [
    "y = y - 5\n",
    "y"
   ]
  },
  {
   "cell_type": "code",
   "execution_count": 97,
   "id": "6e18be8b-1a32-41ea-9734-826a3c7d93b5",
   "metadata": {},
   "outputs": [],
   "source": [
    "y -= 10"
   ]
  },
  {
   "cell_type": "code",
   "execution_count": 88,
   "id": "3aef5abb-f61f-4215-a5b1-1f343bd70aab",
   "metadata": {},
   "outputs": [
    {
     "data": {
      "text/plain": [
       "15.5"
      ]
     },
     "execution_count": 88,
     "metadata": {},
     "output_type": "execute_result"
    }
   ],
   "source": [
    "y"
   ]
  },
  {
   "cell_type": "code",
   "execution_count": 103,
   "id": "106357b9-3b64-43a0-be32-90e4cb487d54",
   "metadata": {},
   "outputs": [
    {
     "data": {
      "text/plain": [
       "63.75"
      ]
     },
     "execution_count": 103,
     "metadata": {},
     "output_type": "execute_result"
    }
   ],
   "source": [
    "x * y / 2 - x"
   ]
  },
  {
   "cell_type": "code",
   "execution_count": 104,
   "id": "0f354393-4282-4127-8c2b-ec9596197899",
   "metadata": {},
   "outputs": [],
   "source": [
    "import math"
   ]
  },
  {
   "cell_type": "code",
   "execution_count": 105,
   "id": "67630950-a75b-4300-a088-c2aba3bbe175",
   "metadata": {},
   "outputs": [
    {
     "data": {
      "text/plain": [
       "['__doc__',\n",
       " '__loader__',\n",
       " '__name__',\n",
       " '__package__',\n",
       " '__spec__',\n",
       " 'acos',\n",
       " 'acosh',\n",
       " 'asin',\n",
       " 'asinh',\n",
       " 'atan',\n",
       " 'atan2',\n",
       " 'atanh',\n",
       " 'cbrt',\n",
       " 'ceil',\n",
       " 'comb',\n",
       " 'copysign',\n",
       " 'cos',\n",
       " 'cosh',\n",
       " 'degrees',\n",
       " 'dist',\n",
       " 'e',\n",
       " 'erf',\n",
       " 'erfc',\n",
       " 'exp',\n",
       " 'exp2',\n",
       " 'expm1',\n",
       " 'fabs',\n",
       " 'factorial',\n",
       " 'floor',\n",
       " 'fmod',\n",
       " 'frexp',\n",
       " 'fsum',\n",
       " 'gamma',\n",
       " 'gcd',\n",
       " 'hypot',\n",
       " 'inf',\n",
       " 'isclose',\n",
       " 'isfinite',\n",
       " 'isinf',\n",
       " 'isnan',\n",
       " 'isqrt',\n",
       " 'lcm',\n",
       " 'ldexp',\n",
       " 'lgamma',\n",
       " 'log',\n",
       " 'log10',\n",
       " 'log1p',\n",
       " 'log2',\n",
       " 'modf',\n",
       " 'nan',\n",
       " 'nextafter',\n",
       " 'perm',\n",
       " 'pi',\n",
       " 'pow',\n",
       " 'prod',\n",
       " 'radians',\n",
       " 'remainder',\n",
       " 'sin',\n",
       " 'sinh',\n",
       " 'sqrt',\n",
       " 'tan',\n",
       " 'tanh',\n",
       " 'tau',\n",
       " 'trunc',\n",
       " 'ulp']"
      ]
     },
     "execution_count": 105,
     "metadata": {},
     "output_type": "execute_result"
    }
   ],
   "source": [
    "dir(math)"
   ]
  },
  {
   "cell_type": "code",
   "execution_count": 108,
   "id": "44436ae1-c9f5-4709-a43b-033a9d5ce11b",
   "metadata": {},
   "outputs": [
    {
     "data": {
      "text/plain": [
       "0.8509035245341184"
      ]
     },
     "execution_count": 108,
     "metadata": {},
     "output_type": "execute_result"
    }
   ],
   "source": [
    "math.sin(45)"
   ]
  },
  {
   "cell_type": "code",
   "execution_count": 109,
   "id": "c22dc3f8-9a6c-4708-b78b-d8ec84befc05",
   "metadata": {},
   "outputs": [
    {
     "data": {
      "text/plain": [
       "8.0"
      ]
     },
     "execution_count": 109,
     "metadata": {},
     "output_type": "execute_result"
    }
   ],
   "source": [
    "math.pow(2, 3)"
   ]
  },
  {
   "cell_type": "code",
   "execution_count": 110,
   "id": "d8a23a05-b9c8-4c83-b4d9-55525983f8a1",
   "metadata": {},
   "outputs": [
    {
     "data": {
      "text/plain": [
       "8"
      ]
     },
     "execution_count": 110,
     "metadata": {},
     "output_type": "execute_result"
    }
   ],
   "source": [
    "2 ** 3"
   ]
  },
  {
   "cell_type": "code",
   "execution_count": 111,
   "id": "10f9bdb9-955a-408c-b1ee-d6ff70301f62",
   "metadata": {},
   "outputs": [
    {
     "data": {
      "text/plain": [
       "3.141592653589793"
      ]
     },
     "execution_count": 111,
     "metadata": {},
     "output_type": "execute_result"
    }
   ],
   "source": [
    "math.pi"
   ]
  },
  {
   "cell_type": "code",
   "execution_count": 112,
   "id": "b9fead83-a51c-4e5d-9810-8a2aaed40600",
   "metadata": {},
   "outputs": [
    {
     "data": {
      "text/plain": [
       "3.142857142857143"
      ]
     },
     "execution_count": 112,
     "metadata": {},
     "output_type": "execute_result"
    }
   ],
   "source": [
    "22 / 7"
   ]
  },
  {
   "cell_type": "code",
   "execution_count": 115,
   "id": "8876f500-3719-401c-8cbd-6321b7eacb0b",
   "metadata": {},
   "outputs": [
    {
     "name": "stdout",
     "output_type": "stream",
     "text": [
      "Help on built-in function sin in module math:\n",
      "\n",
      "sin(x, /)\n",
      "    Return the sine of x (measured in radians).\n",
      "\n"
     ]
    }
   ],
   "source": [
    "help(math.sin)"
   ]
  },
  {
   "cell_type": "code",
   "execution_count": 120,
   "id": "ea414d6b-8cb0-4dcb-98df-3f1c6ce3d9ae",
   "metadata": {},
   "outputs": [
    {
     "data": {
      "text/plain": [
       "9"
      ]
     },
     "execution_count": 120,
     "metadata": {},
     "output_type": "execute_result"
    }
   ],
   "source": [
    "round(9.1)"
   ]
  },
  {
   "cell_type": "code",
   "execution_count": 121,
   "id": "8845389d-4f63-4b28-b565-562513a20296",
   "metadata": {},
   "outputs": [],
   "source": [
    "import random"
   ]
  },
  {
   "cell_type": "code",
   "execution_count": 137,
   "id": "9eafc6e7-1dca-4e67-809f-acbc600736cf",
   "metadata": {},
   "outputs": [
    {
     "data": {
      "text/plain": [
       "0.18058241509419548"
      ]
     },
     "execution_count": 137,
     "metadata": {},
     "output_type": "execute_result"
    }
   ],
   "source": [
    "random.random()"
   ]
  },
  {
   "cell_type": "code",
   "execution_count": 182,
   "id": "3d951809-b3f3-49e5-b926-53a920188bd1",
   "metadata": {},
   "outputs": [
    {
     "data": {
      "text/plain": [
       "1.042669601162828"
      ]
     },
     "execution_count": 182,
     "metadata": {},
     "output_type": "execute_result"
    }
   ],
   "source": [
    "random.uniform(1, 2)"
   ]
  },
  {
   "cell_type": "code",
   "execution_count": 188,
   "id": "afe332f6-45e0-4622-a18b-0da4857b6644",
   "metadata": {},
   "outputs": [
    {
     "data": {
      "text/plain": [
       "2"
      ]
     },
     "execution_count": 188,
     "metadata": {},
     "output_type": "execute_result"
    }
   ],
   "source": [
    "random.randint(1, 2)"
   ]
  },
  {
   "cell_type": "code",
   "execution_count": 199,
   "id": "ee5cbe7c-913e-4ecc-ac85-9f09ae720b56",
   "metadata": {},
   "outputs": [
    {
     "name": "stdout",
     "output_type": "stream",
     "text": [
      "This is \"text\" with a double quote\n"
     ]
    }
   ],
   "source": [
    "my_string = \"This is \\\"text\\\" with a double quote\"\n",
    "print(my_string)"
   ]
  },
  {
   "cell_type": "code",
   "execution_count": 200,
   "id": "7fd87dcb-39e4-4137-a2b6-dec5c200712a",
   "metadata": {},
   "outputs": [
    {
     "name": "stdout",
     "output_type": "stream",
     "text": [
      "This is 'text' with a single quote\n"
     ]
    }
   ],
   "source": [
    "my_string = \"This is \\'text\\' with a single quote\"\n",
    "print(my_string)"
   ]
  },
  {
   "cell_type": "code",
   "execution_count": 201,
   "id": "ae28686d-e3ab-40b6-b249-e3147b442653",
   "metadata": {},
   "outputs": [
    {
     "name": "stdout",
     "output_type": "stream",
     "text": [
      "This is \\text\\ with a back slash\n"
     ]
    }
   ],
   "source": [
    "my_string = \"This is \\\\text\\\\ with a back slash\"\n",
    "print(my_string)"
   ]
  },
  {
   "cell_type": "code",
   "execution_count": 208,
   "id": "96109250-f434-4e8e-99ee-eb1f72fa7d04",
   "metadata": {},
   "outputs": [
    {
     "name": "stdout",
     "output_type": "stream",
     "text": [
      "This is \ttext\t with a Tab\n"
     ]
    }
   ],
   "source": [
    "my_string = \"This is \\ttext\\t with a Tab\"\n",
    "print(my_string)"
   ]
  },
  {
   "cell_type": "code",
   "execution_count": 190,
   "id": "09871726-bed0-4f02-ac7d-eb0e85db2b54",
   "metadata": {},
   "outputs": [
    {
     "data": {
      "text/plain": [
       "'This is text'"
      ]
     },
     "execution_count": 190,
     "metadata": {},
     "output_type": "execute_result"
    }
   ],
   "source": [
    "my_string = 'This is text'\n",
    "my_string"
   ]
  },
  {
   "cell_type": "code",
   "execution_count": 193,
   "id": "afc7d7d9-cecd-4c6d-a134-618e81a92584",
   "metadata": {},
   "outputs": [
    {
     "data": {
      "text/plain": [
       "'This is text in line 1\\nand this is text in line 2\\n'"
      ]
     },
     "execution_count": 193,
     "metadata": {},
     "output_type": "execute_result"
    }
   ],
   "source": [
    "my_string = \"\"\"This is text in line 1\n",
    "and this is text in line 2\n",
    "\"\"\"\n",
    "my_string"
   ]
  },
  {
   "cell_type": "code",
   "execution_count": 216,
   "id": "bd7d64db-8593-45af-98d9-802aca6286be",
   "metadata": {},
   "outputs": [
    {
     "name": "stdout",
     "output_type": "stream",
     "text": [
      "Hello World\n"
     ]
    },
    {
     "data": {
      "text/plain": [
       "11"
      ]
     },
     "execution_count": 216,
     "metadata": {},
     "output_type": "execute_result"
    }
   ],
   "source": [
    "str1 = \"Hello\"\n",
    "str2 = \"World\"\n",
    "print(\"Hello\" + \" \" + str2)\n",
    "len(\"Hello\" + \" \" + str2)"
   ]
  },
  {
   "cell_type": "code",
   "execution_count": 214,
   "id": "d3515e8b-6fea-4b7f-ac1c-4710686136c7",
   "metadata": {},
   "outputs": [
    {
     "name": "stdout",
     "output_type": "stream",
     "text": [
      "HelloHelloHello\n"
     ]
    }
   ],
   "source": [
    "print(str1 * 3)"
   ]
  },
  {
   "cell_type": "code",
   "execution_count": 215,
   "id": "0966a7cb-d421-460b-82e8-0581b2724b2d",
   "metadata": {},
   "outputs": [
    {
     "data": {
      "text/plain": [
       "15"
      ]
     },
     "execution_count": 215,
     "metadata": {},
     "output_type": "execute_result"
    }
   ],
   "source": [
    "len(str1 * 3)"
   ]
  },
  {
   "cell_type": "code",
   "execution_count": 223,
   "id": "56cff9b1-43b8-42d5-970b-f5fe4080adba",
   "metadata": {},
   "outputs": [
    {
     "name": "stdin",
     "output_type": "stream",
     "text": [
      "What is your name? ahmad\n"
     ]
    },
    {
     "name": "stdout",
     "output_type": "stream",
     "text": [
      "Hello ahmad\n"
     ]
    }
   ],
   "source": [
    "user_name = input(\"What is your name?\") \n",
    "\n",
    "print(f\"Hello {user_name}\")"
   ]
  },
  {
   "cell_type": "code",
   "execution_count": 227,
   "id": "d7184d3e-bec5-4c04-9682-6960ce08930c",
   "metadata": {},
   "outputs": [],
   "source": [
    "name, name2 = \"AHMAD\", \"ahmad\""
   ]
  },
  {
   "cell_type": "code",
   "execution_count": 226,
   "id": "d565a811-e96e-41cf-8fb4-06fd79b22571",
   "metadata": {},
   "outputs": [
    {
     "data": {
      "text/plain": [
       "'ahmad'"
      ]
     },
     "execution_count": 226,
     "metadata": {},
     "output_type": "execute_result"
    }
   ],
   "source": [
    "name.lower()"
   ]
  },
  {
   "cell_type": "code",
   "execution_count": 228,
   "id": "fb2079cf-a642-4ae3-a0c7-b1d6d905dfef",
   "metadata": {},
   "outputs": [
    {
     "data": {
      "text/plain": [
       "'ahmad'"
      ]
     },
     "execution_count": 228,
     "metadata": {},
     "output_type": "execute_result"
    }
   ],
   "source": [
    "name2"
   ]
  },
  {
   "cell_type": "code",
   "execution_count": 229,
   "id": "31372e64-53f2-40cd-aaf1-7e2c79f6d7c4",
   "metadata": {},
   "outputs": [
    {
     "data": {
      "text/plain": [
       "'AHMAD'"
      ]
     },
     "execution_count": 229,
     "metadata": {},
     "output_type": "execute_result"
    }
   ],
   "source": [
    "name2.upper()"
   ]
  },
  {
   "cell_type": "code",
   "execution_count": 230,
   "id": "cbb84c27-80e3-4f91-8f61-fd8779506b9e",
   "metadata": {},
   "outputs": [
    {
     "data": {
      "text/plain": [
       "'Ahmad'"
      ]
     },
     "execution_count": 230,
     "metadata": {},
     "output_type": "execute_result"
    }
   ],
   "source": [
    "name2.title()"
   ]
  },
  {
   "cell_type": "code",
   "execution_count": 232,
   "id": "5d0cdd7f-dc8c-4777-98ab-7c7723045d40",
   "metadata": {},
   "outputs": [
    {
     "name": "stdout",
     "output_type": "stream",
     "text": [
      "Hello World!\n"
     ]
    }
   ],
   "source": [
    "welcome = \"Hello World!\"\n",
    "print(welcome)"
   ]
  },
  {
   "cell_type": "code",
   "execution_count": 235,
   "id": "765505cf-8d1c-4c80-8cbd-88a73b2bdd2d",
   "metadata": {},
   "outputs": [
    {
     "name": "stdout",
     "output_type": "stream",
     "text": [
      "Hello Everyone!\n"
     ]
    }
   ],
   "source": [
    "print(welcome.replace(\"World\", \"Everyone\"))"
   ]
  },
  {
   "cell_type": "code",
   "execution_count": 238,
   "id": "f0e9d293-ce81-4578-8066-df50c030ca09",
   "metadata": {},
   "outputs": [
    {
     "name": "stdout",
     "output_type": "stream",
     "text": [
      "2\n"
     ]
    }
   ],
   "source": [
    "print(welcome.count(\"o\"))"
   ]
  },
  {
   "cell_type": "code",
   "execution_count": 245,
   "id": "01c62b16-5a0b-4bfa-ab4b-8b8dbe271ffd",
   "metadata": {},
   "outputs": [
    {
     "name": "stdout",
     "output_type": "stream",
     "text": [
      "True\n"
     ]
    }
   ],
   "source": [
    "welcome = 'HelloWorld'\n",
    "print(welcome.isalpha())"
   ]
  },
  {
   "cell_type": "code",
   "execution_count": 256,
   "id": "5f23c99c-273b-4a18-91e6-4c8e4106c81e",
   "metadata": {},
   "outputs": [],
   "source": [
    "isGood = True\n",
    "isNone = None"
   ]
  },
  {
   "cell_type": "code",
   "execution_count": 257,
   "id": "667a62d2-50c3-488f-9d36-6520558abb71",
   "metadata": {},
   "outputs": [
    {
     "ename": "TypeError",
     "evalue": "unsupported operand type(s) for +: 'bool' and 'NoneType'",
     "output_type": "error",
     "traceback": [
      "\u001b[1;31m---------------------------------------------------------------------------\u001b[0m",
      "\u001b[1;31mTypeError\u001b[0m                                 Traceback (most recent call last)",
      "Cell \u001b[1;32mIn[257], line 1\u001b[0m\n\u001b[1;32m----> 1\u001b[0m isGood \u001b[38;5;241m+\u001b[39m isNone\n",
      "\u001b[1;31mTypeError\u001b[0m: unsupported operand type(s) for +: 'bool' and 'NoneType'"
     ]
    }
   ],
   "source": [
    "isGood + isNone"
   ]
  },
  {
   "cell_type": "code",
   "execution_count": 255,
   "id": "695b914e-4bd8-474e-ba80-f7d9003a0934",
   "metadata": {},
   "outputs": [
    {
     "name": "stdout",
     "output_type": "stream",
     "text": [
      "<class 'NoneType'>\n"
     ]
    }
   ],
   "source": [
    "print(type(None))"
   ]
  },
  {
   "cell_type": "code",
   "execution_count": 265,
   "id": "e1cb457d-a86f-464d-b0b2-55f5167000d5",
   "metadata": {},
   "outputs": [],
   "source": [
    "myRealNumber = 30\n",
    "myTextNumber = \"30\""
   ]
  },
  {
   "cell_type": "code",
   "execution_count": 266,
   "id": "fe7dd861-7ceb-4366-9a38-6c6bbc1a7d5e",
   "metadata": {},
   "outputs": [
    {
     "data": {
      "text/plain": [
       "60"
      ]
     },
     "execution_count": 266,
     "metadata": {},
     "output_type": "execute_result"
    }
   ],
   "source": [
    "myRealNumber + int(myTextNumber)"
   ]
  },
  {
   "cell_type": "code",
   "execution_count": 267,
   "id": "e91c76ad-cc13-498f-87e3-e958f5802e53",
   "metadata": {},
   "outputs": [],
   "source": [
    "myFloatNumber = \"70.98\""
   ]
  },
  {
   "cell_type": "code",
   "execution_count": 271,
   "id": "3f0c0e19-a4ab-4895-baa7-a9574325601c",
   "metadata": {},
   "outputs": [
    {
     "data": {
      "text/plain": [
       "75.98"
      ]
     },
     "execution_count": 271,
     "metadata": {},
     "output_type": "execute_result"
    }
   ],
   "source": [
    "float(myFloatNumber) + 5"
   ]
  },
  {
   "cell_type": "code",
   "execution_count": 273,
   "id": "3cdfee0b-79f5-4e29-982b-6ce66073ebef",
   "metadata": {},
   "outputs": [
    {
     "data": {
      "text/plain": [
       "\u001b[1;31mSignature:\u001b[0m \u001b[0mprint\u001b[0m\u001b[1;33m(\u001b[0m\u001b[1;33m*\u001b[0m\u001b[0margs\u001b[0m\u001b[1;33m,\u001b[0m \u001b[0msep\u001b[0m\u001b[1;33m=\u001b[0m\u001b[1;34m' '\u001b[0m\u001b[1;33m,\u001b[0m \u001b[0mend\u001b[0m\u001b[1;33m=\u001b[0m\u001b[1;34m'\\n'\u001b[0m\u001b[1;33m,\u001b[0m \u001b[0mfile\u001b[0m\u001b[1;33m=\u001b[0m\u001b[1;32mNone\u001b[0m\u001b[1;33m,\u001b[0m \u001b[0mflush\u001b[0m\u001b[1;33m=\u001b[0m\u001b[1;32mFalse\u001b[0m\u001b[1;33m)\u001b[0m\u001b[1;33m\u001b[0m\u001b[1;33m\u001b[0m\u001b[0m\n",
       "\u001b[1;31mDocstring:\u001b[0m\n",
       "Prints the values to a stream, or to sys.stdout by default.\n",
       "\n",
       "sep\n",
       "  string inserted between values, default a space.\n",
       "end\n",
       "  string appended after the last value, default a newline.\n",
       "file\n",
       "  a file-like object (stream); defaults to the current sys.stdout.\n",
       "flush\n",
       "  whether to forcibly flush the stream.\n",
       "\u001b[1;31mType:\u001b[0m      builtin_function_or_method"
      ]
     },
     "metadata": {},
     "output_type": "display_data"
    }
   ],
   "source": [
    "?print"
   ]
  },
  {
   "cell_type": "code",
   "execution_count": 274,
   "id": "740d434c-a9e7-480b-ab51-00e3431e1178",
   "metadata": {},
   "outputs": [
    {
     "name": "stdout",
     "output_type": "stream",
     "text": [
      "Help on built-in function print in module builtins:\n",
      "\n",
      "print(*args, sep=' ', end='\\n', file=None, flush=False)\n",
      "    Prints the values to a stream, or to sys.stdout by default.\n",
      "    \n",
      "    sep\n",
      "      string inserted between values, default a space.\n",
      "    end\n",
      "      string appended after the last value, default a newline.\n",
      "    file\n",
      "      a file-like object (stream); defaults to the current sys.stdout.\n",
      "    flush\n",
      "      whether to forcibly flush the stream.\n",
      "\n"
     ]
    }
   ],
   "source": [
    "help(print)"
   ]
  },
  {
   "cell_type": "code",
   "execution_count": 277,
   "id": "dd38ae38-9f01-4487-aee1-e0c3960c3a24",
   "metadata": {},
   "outputs": [
    {
     "name": "stdout",
     "output_type": "stream",
     "text": [
      "5 January 1998\n"
     ]
    }
   ],
   "source": [
    "birth_date = \"5 January 1998\"\n",
    "print(birth_date)"
   ]
  },
  {
   "cell_type": "code",
   "execution_count": 281,
   "id": "905b0867-bdfb-464d-ab15-7550be387bae",
   "metadata": {},
   "outputs": [
    {
     "name": "stdout",
     "output_type": "stream",
     "text": [
      "Hello! how are you? my age is:  12\n"
     ]
    }
   ],
   "source": [
    "print(\"Hello!\", \"how are you?\", \"my age is: \", 12)"
   ]
  },
  {
   "cell_type": "code",
   "execution_count": 282,
   "id": "29f01ffc-88d6-4fa4-9cdc-7a8ed25fe264",
   "metadata": {},
   "outputs": [
    {
     "name": "stdout",
     "output_type": "stream",
     "text": [
      "Hello! how are you? I love programming\n"
     ]
    }
   ],
   "source": [
    "print(\"Hello!\", \"how are you?\", \"I love programming\")"
   ]
  },
  {
   "cell_type": "code",
   "execution_count": 286,
   "id": "41524d95-9e19-49e4-96e7-b4b6fabcecf9",
   "metadata": {},
   "outputs": [
    {
     "name": "stdout",
     "output_type": "stream",
     "text": [
      "Hello!-----how are you?-----I love programming\n"
     ]
    }
   ],
   "source": [
    "print(\"Hello!\", \"how are you?\", \"I love programming\", sep=\"-----\")"
   ]
  },
  {
   "cell_type": "code",
   "execution_count": 288,
   "id": "fcde5479-16a0-4134-a007-2fb90dea238b",
   "metadata": {},
   "outputs": [
    {
     "name": "stdin",
     "output_type": "stream",
     "text": [
      "what is your first name? Ahmad\n",
      "what is your last name? Ammari\n",
      "How old are you? 30\n",
      "what is your height? 1.8\n"
     ]
    }
   ],
   "source": [
    "firstName = input(\"what is your first name?\")\n",
    "lastName = input(\"what is your last name?\")\n",
    "age = input(\"How old are you?\")\n",
    "height = input(\"what is your height?\")"
   ]
  },
  {
   "cell_type": "code",
   "execution_count": 295,
   "id": "bb00666c-22d1-4d27-8595-0fcdc0e0f7d9",
   "metadata": {},
   "outputs": [
    {
     "name": "stdout",
     "output_type": "stream",
     "text": [
      "Hello Ahmad Ammari. \n",
      "You are 30 years old and you height is 1.8\n"
     ]
    }
   ],
   "source": [
    "print(f\"\"\"Hello {firstName} {lastName}. \n",
    "You are {age} years old and you height is {height}\"\"\")"
   ]
  },
  {
   "cell_type": "code",
   "execution_count": null,
   "id": "2da78b40-48ff-4798-a376-d526a388f104",
   "metadata": {},
   "outputs": [],
   "source": []
  }
 ],
 "metadata": {
  "kernelspec": {
   "display_name": "Python 3 (ipykernel)",
   "language": "python",
   "name": "python3"
  },
  "language_info": {
   "codemirror_mode": {
    "name": "ipython",
    "version": 3
   },
   "file_extension": ".py",
   "mimetype": "text/x-python",
   "name": "python",
   "nbconvert_exporter": "python",
   "pygments_lexer": "ipython3",
   "version": "3.11.7"
  }
 },
 "nbformat": 4,
 "nbformat_minor": 5
}
