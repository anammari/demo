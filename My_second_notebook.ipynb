{
 "cells": [
  {
   "cell_type": "markdown",
   "id": "6349f3c8-aaa9-4a74-bb79-3929894acfa8",
   "metadata": {},
   "source": [
    "# Project Title\n",
    "\n",
    "_This is the main title of my project_\n",
    "\n",
    "This is the main *title* of my project"
   ]
  },
  {
   "cell_type": "markdown",
   "id": "484ff8e3-8c8e-446f-80c4-f72d58eff1d6",
   "metadata": {},
   "source": [
    "## Number Calculations\n",
    "\n",
    "***\n",
    "\n",
    "These are **calculation examples**\n",
    "\n",
    "These are ***calculation examples***"
   ]
  },
  {
   "cell_type": "markdown",
   "id": "e111642e-c77d-4416-b360-440ba86f2bd2",
   "metadata": {},
   "source": [
    "### Example on Sum"
   ]
  },
  {
   "cell_type": "code",
   "execution_count": 2,
   "id": "e238def0-00c1-473a-ab50-c80b139d6bd9",
   "metadata": {},
   "outputs": [
    {
     "data": {
      "text/plain": [
       "15"
      ]
     },
     "execution_count": 2,
     "metadata": {},
     "output_type": "execute_result"
    }
   ],
   "source": [
    "10 + 5"
   ]
  },
  {
   "cell_type": "markdown",
   "id": "d1c6ff20-7bf5-4e72-8f8b-35fee8084a66",
   "metadata": {},
   "source": [
    "### Example on Print Text"
   ]
  },
  {
   "cell_type": "code",
   "execution_count": 2,
   "id": "9e4ed933-23ea-4f9c-99b1-5f197fc48915",
   "metadata": {},
   "outputs": [
    {
     "name": "stdout",
     "output_type": "stream",
     "text": [
      "Hello JupyterLab\n"
     ]
    }
   ],
   "source": [
    "print(\"Hello JupyterLab\")"
   ]
  },
  {
   "cell_type": "markdown",
   "id": "2a4b0f95-58fd-4b3c-8808-559a5546faa1",
   "metadata": {},
   "source": [
    "#### Example on Print Number"
   ]
  },
  {
   "cell_type": "code",
   "execution_count": 3,
   "id": "e9544b81-b75f-4ae3-89ed-9f9a8946b3a7",
   "metadata": {},
   "outputs": [
    {
     "name": "stdout",
     "output_type": "stream",
     "text": [
      "5\n"
     ]
    }
   ],
   "source": [
    "print(5)"
   ]
  },
  {
   "cell_type": "markdown",
   "id": "7628c2ed-17ea-49d5-8cd2-c710b6263786",
   "metadata": {},
   "source": [
    "# Numbered List\n",
    "\n",
    "1. First item\n",
    "2. Second item\n",
    "3. Third item\n",
    "\n",
    "   3.1 Sub item 3.1\n",
    "   \n",
    "   3.2 Sub item 3.2"
   ]
  },
  {
   "cell_type": "markdown",
   "id": "47f9cce9-b15f-49a8-b5e9-9776ba825eb7",
   "metadata": {},
   "source": [
    "# Numbered List\n",
    "\n",
    "1. First item\n",
    "2. Second item\n",
    "3. Third item\n",
    "    1. Sub item 3.1\n",
    "    2. Sub item 3.2"
   ]
  },
  {
   "cell_type": "markdown",
   "id": "6cd92964-e8bd-4b91-961d-0355725121d3",
   "metadata": {},
   "source": [
    "# Dot Points\n",
    "\n",
    "* Point 1\n",
    "* Point 2\n",
    "    * Subpoint 2.0\n",
    "    * Subpoint 2.1\n",
    "    * Subpoint 2.2\n",
    "* Point 3"
   ]
  },
  {
   "cell_type": "markdown",
   "id": "f6604500-57a2-449b-8faf-c1974f8b8428",
   "metadata": {},
   "source": [
    "# Line\n",
    "\n",
    "***"
   ]
  },
  {
   "cell_type": "markdown",
   "id": "e6fb94d4-8d1c-41d3-b9e6-81741915935b",
   "metadata": {},
   "source": [
    "# Math Symbols\n",
    "\n",
    "$X = 5^2$"
   ]
  },
  {
   "cell_type": "code",
   "execution_count": 4,
   "id": "701c76ff-6fd8-438a-8d08-9dce7dd5c78c",
   "metadata": {},
   "outputs": [
    {
     "data": {
      "text/plain": [
       "25"
      ]
     },
     "execution_count": 4,
     "metadata": {},
     "output_type": "execute_result"
    }
   ],
   "source": [
    "5 ** 2"
   ]
  },
  {
   "cell_type": "markdown",
   "id": "6785aead-e65d-4762-804b-a2030d7851a7",
   "metadata": {},
   "source": [
    "[Click here to open the other report](My_first_notebook.ipynb)"
   ]
  },
  {
   "cell_type": "code",
   "execution_count": 11,
   "id": "cfbdeef9-f21e-4777-afbc-9f179aeac487",
   "metadata": {},
   "outputs": [
    {
     "name": "stdout",
     "output_type": "stream",
     "text": [
      "Double quotes\n",
      "Single quotes\n",
      "20\n",
      "1010\n",
      "10 + 10\n"
     ]
    }
   ],
   "source": [
    "print(\"Double quotes\")\n",
    "\n",
    "print('Single quotes')\n",
    "\n",
    "print(10 + 10)\n",
    "\n",
    "print(\"10\" + \"10\")\n",
    "\n",
    "print(\"10 + 10\")"
   ]
  },
  {
   "cell_type": "code",
   "execution_count": 12,
   "id": "a01f6e3b-2ae5-4f7a-995f-f2278732480e",
   "metadata": {},
   "outputs": [
    {
     "data": {
      "text/plain": [
       "\u001b[1;31mSignature:\u001b[0m \u001b[0mprint\u001b[0m\u001b[1;33m(\u001b[0m\u001b[1;33m*\u001b[0m\u001b[0margs\u001b[0m\u001b[1;33m,\u001b[0m \u001b[0msep\u001b[0m\u001b[1;33m=\u001b[0m\u001b[1;34m' '\u001b[0m\u001b[1;33m,\u001b[0m \u001b[0mend\u001b[0m\u001b[1;33m=\u001b[0m\u001b[1;34m'\\n'\u001b[0m\u001b[1;33m,\u001b[0m \u001b[0mfile\u001b[0m\u001b[1;33m=\u001b[0m\u001b[1;32mNone\u001b[0m\u001b[1;33m,\u001b[0m \u001b[0mflush\u001b[0m\u001b[1;33m=\u001b[0m\u001b[1;32mFalse\u001b[0m\u001b[1;33m)\u001b[0m\u001b[1;33m\u001b[0m\u001b[1;33m\u001b[0m\u001b[0m\n",
       "\u001b[1;31mDocstring:\u001b[0m\n",
       "Prints the values to a stream, or to sys.stdout by default.\n",
       "\n",
       "sep\n",
       "  string inserted between values, default a space.\n",
       "end\n",
       "  string appended after the last value, default a newline.\n",
       "file\n",
       "  a file-like object (stream); defaults to the current sys.stdout.\n",
       "flush\n",
       "  whether to forcibly flush the stream.\n",
       "\u001b[1;31mType:\u001b[0m      builtin_function_or_method"
      ]
     },
     "metadata": {},
     "output_type": "display_data"
    }
   ],
   "source": [
    "?print"
   ]
  },
  {
   "cell_type": "code",
   "execution_count": 13,
   "id": "0d65183d-d7c5-4657-b649-72f58aa46649",
   "metadata": {},
   "outputs": [
    {
     "data": {
      "text/plain": [
       "\u001b[1;31mSignature:\u001b[0m \u001b[0mlen\u001b[0m\u001b[1;33m(\u001b[0m\u001b[0mobj\u001b[0m\u001b[1;33m,\u001b[0m \u001b[1;33m/\u001b[0m\u001b[1;33m)\u001b[0m\u001b[1;33m\u001b[0m\u001b[1;33m\u001b[0m\u001b[0m\n",
       "\u001b[1;31mDocstring:\u001b[0m Return the number of items in a container.\n",
       "\u001b[1;31mType:\u001b[0m      builtin_function_or_method"
      ]
     },
     "metadata": {},
     "output_type": "display_data"
    }
   ],
   "source": [
    "?len"
   ]
  },
  {
   "cell_type": "code",
   "execution_count": 14,
   "id": "f3f3beaf-6079-483d-b18a-c86b1d6f705f",
   "metadata": {},
   "outputs": [
    {
     "data": {
      "text/plain": [
       "13"
      ]
     },
     "execution_count": 14,
     "metadata": {},
     "output_type": "execute_result"
    }
   ],
   "source": [
    "len(\"Double quotes\")"
   ]
  },
  {
   "cell_type": "code",
   "execution_count": 15,
   "id": "9dcdfa81-dc45-469f-a14e-fd3ff0c12d0d",
   "metadata": {},
   "outputs": [],
   "source": [
    "firstVariable = \"Hello world from Jupyter!\""
   ]
  },
  {
   "cell_type": "code",
   "execution_count": 16,
   "id": "3d631f3f-2d5f-4b81-9b95-06eb47564570",
   "metadata": {},
   "outputs": [
    {
     "data": {
      "text/plain": [
       "'Hello world from Jupyter!'"
      ]
     },
     "execution_count": 16,
     "metadata": {},
     "output_type": "execute_result"
    }
   ],
   "source": [
    "firstVariable"
   ]
  },
  {
   "cell_type": "code",
   "execution_count": 17,
   "id": "491d8be8-e89f-4d4f-80a6-83a3895862bf",
   "metadata": {},
   "outputs": [
    {
     "data": {
      "text/plain": [
       "25"
      ]
     },
     "execution_count": 17,
     "metadata": {},
     "output_type": "execute_result"
    }
   ],
   "source": [
    "len(firstVariable)"
   ]
  },
  {
   "cell_type": "code",
   "execution_count": 18,
   "id": "0f7e6139-d42f-4aeb-ad71-72393204549c",
   "metadata": {},
   "outputs": [],
   "source": [
    "myNumber = 10\n",
    "mySecondNumber = 20"
   ]
  },
  {
   "cell_type": "code",
   "execution_count": 19,
   "id": "ebc17384-3492-44a5-8ce3-94df2a0996cb",
   "metadata": {},
   "outputs": [
    {
     "name": "stdout",
     "output_type": "stream",
     "text": [
      "30\n"
     ]
    }
   ],
   "source": [
    "print(myNumber + mySecondNumber)"
   ]
  },
  {
   "cell_type": "code",
   "execution_count": null,
   "id": "98f5f4c0-6915-4f16-a21e-55a47805916b",
   "metadata": {},
   "outputs": [],
   "source": []
  }
 ],
 "metadata": {
  "kernelspec": {
   "display_name": "Python 3 (ipykernel)",
   "language": "python",
   "name": "python3"
  },
  "language_info": {
   "codemirror_mode": {
    "name": "ipython",
    "version": 3
   },
   "file_extension": ".py",
   "mimetype": "text/x-python",
   "name": "python",
   "nbconvert_exporter": "python",
   "pygments_lexer": "ipython3",
   "version": "3.11.7"
  }
 },
 "nbformat": 4,
 "nbformat_minor": 5
}
